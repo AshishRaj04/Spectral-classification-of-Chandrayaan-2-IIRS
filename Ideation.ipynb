{
  "nbformat": 4,
  "nbformat_minor": 0,
  "metadata": {
    "colab": {
      "provenance": [],
      "authorship_tag": "ABX9TyPjDhCIgVytO+Pu4AC73QPJ",
      "include_colab_link": true
    },
    "kernelspec": {
      "name": "python3",
      "display_name": "Python 3"
    },
    "language_info": {
      "name": "python"
    }
  },
  "cells": [
    {
      "cell_type": "markdown",
      "metadata": {
        "id": "view-in-github",
        "colab_type": "text"
      },
      "source": [
        "<a href=\"https://colab.research.google.com/github/AshishRaj04/Spectral-classification-of-Chandrayaan-2-IIRS/blob/main/Ideation.ipynb\" target=\"_parent\"><img src=\"https://colab.research.google.com/assets/colab-badge.svg\" alt=\"Open In Colab\"/></a>"
      ]
    },
    {
      "cell_type": "markdown",
      "source": [
        "# Imaging Infrared Spectrometer\n",
        "Chandrayaan-2's Imaging Infrared Spectrometer (IIRS) is an advanced instrument designed to map the lunar surface in the infrared spectrum. It was a part of India's second lunar exploration mission, Chandrayaan-2, which was launched by the Indian Space Research Organisation (ISRO) on July 22, 2019. The IIRS is specifically **intended to analyze the mineral composition of the moon's surface** and to map its thermal characteristics.\n",
        "* **Mineralogical Mapping**: IIRS helps in creating detailed maps of the moon's mineral composition, which can provide insights into its formation and evolution.\n",
        "* **Water Molecule Detection**: It assists in detecting and mapping hydroxyl and water molecules on the lunar surface, which is vital for future lunar exploration and potential resource utilization."
      ],
      "metadata": {
        "id": "fMCCO3z5O-1O"
      }
    },
    {
      "cell_type": "markdown",
      "source": [
        "# **PROBLEM STATEMENT 8** - **Spectral classification of Chandrayaan-2 IIRS using AI/ML for understanding geological diversity of the Moon**\n",
        "\n"
      ],
      "metadata": {
        "id": "bxXpSyhQPtlt"
      }
    },
    {
      "cell_type": "markdown",
      "source": [
        "# Step wise procedures for apporaching the problem\n",
        "1. ## Categorizing Based on Spacecraft Geometry\n",
        "\n",
        "     Group or categorize the data based on similar observation parameters (e.g., angle of observation, altitude, phase angle). This ensures that the comparisons and classifications are made on data that are geometrically similar, reducing the noise and errors introduced by geometric differences.\n",
        "\n",
        "2. ## Hyperspectral Data Analysis Knowledge\n",
        "   * Download the specific IIRS data from the mentioned website.\n",
        "   * Familiarize yourself with the dataset by plotting and understanding the data.\n",
        "   * Each pixel in the data should be associated with its coordinates (latitude and longitude).\n",
        "\n",
        "3. ## Visualize Data\n",
        "   * Create visualizations of the data stripes.\n",
        "   * Implement functionality to display spectral variations (reflectance vs. wavelength) when a specific point is clicked.\n",
        "\n",
        "4. ## Data Cleaning:\n",
        "\n",
        "    * Address the noise in the dataset.\n",
        "    * Select two or three data stripes and focus on the reflectance values,\n",
        "      discarding any irrelevant or noisy data.\n",
        "      \n",
        "\n",
        "\n",
        "5. ## Spectral Data Classification\n",
        "     \n",
        "     * Preprocess Data: Dimensionality reduction with PCA.\n",
        "     * Cluster Data: Use K-means clustering. Experiment with different numbers\n",
        "       of clusters (e.g., 2, 3, 4, up to 12 clusters).\n",
        "     * Classify Data: Apply CNN on the cleaned data for\n",
        "        spectral classification. Also use Random Forest classification , SVM .\n",
        "\n",
        "6. ## Comparison and Validation\n",
        "    \n",
        "    * Compare the clusters obtained with the general understanding of the Moon’s geological diversity.\n",
        "    * Validate your classification results with available scientific data and previous mission data.\n",
        "\n",
        "\n",
        "7. ## User-Friendly Interface (GUI)\n",
        "   * Develop userfriendly interface so that user can know the Mineralogical diversity of the moon."
      ],
      "metadata": {
        "id": "2OxbWS2wTr3v"
      }
    },
    {
      "cell_type": "code",
      "execution_count": null,
      "metadata": {
        "id": "lslqclw2O79-"
      },
      "outputs": [],
      "source": []
    }
  ]
}