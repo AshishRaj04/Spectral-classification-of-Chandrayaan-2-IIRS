{
  "nbformat": 4,
  "nbformat_minor": 0,
  "metadata": {
    "colab": {
      "provenance": [],
      "mount_file_id": "1H7vM8gDBM39HGN3FzWj6lq0W0F9PuCLz",
      "authorship_tag": "ABX9TyOV+6UcO3p4zZYgXqUqpB7x",
      "include_colab_link": true
    },
    "kernelspec": {
      "name": "python3",
      "display_name": "Python 3"
    },
    "language_info": {
      "name": "python"
    }
  },
  "cells": [
    {
      "cell_type": "markdown",
      "metadata": {
        "id": "view-in-github",
        "colab_type": "text"
      },
      "source": [
        "<a href=\"https://colab.research.google.com/github/AshishRaj04/Spectral-classification-of-Chandrayaan-2-IIRS/blob/main/Spectral_classification_of_Chandrayaan_2_IIRS.ipynb\" target=\"_parent\"><img src=\"https://colab.research.google.com/assets/colab-badge.svg\" alt=\"Open In Colab\"/></a>"
      ]
    },
    {
      "cell_type": "markdown",
      "source": [
        "Installing the spectral library for reading the **.qub** and **.hdr** files"
      ],
      "metadata": {
        "id": "T0a5Ce0lcTTl"
      }
    },
    {
      "cell_type": "code",
      "source": [
        "! pip install spectral"
      ],
      "metadata": {
        "colab": {
          "base_uri": "https://localhost:8080/"
        },
        "id": "MaQm2qkZUqhM",
        "outputId": "d7cb039f-6e71-4711-bab7-8d9753b9ca78"
      },
      "execution_count": 1,
      "outputs": [
        {
          "output_type": "stream",
          "name": "stdout",
          "text": [
            "Collecting spectral\n",
            "  Downloading spectral-0.23.1-py3-none-any.whl (212 kB)\n",
            "\u001b[2K     \u001b[90m━━━━━━━━━━━━━━━━━━━━━━━━━━━━━━━━━━━━━━━━\u001b[0m \u001b[32m212.9/212.9 kB\u001b[0m \u001b[31m2.5 MB/s\u001b[0m eta \u001b[36m0:00:00\u001b[0m\n",
            "\u001b[?25hRequirement already satisfied: numpy in /usr/local/lib/python3.10/dist-packages (from spectral) (1.25.2)\n",
            "Installing collected packages: spectral\n",
            "Successfully installed spectral-0.23.1\n"
          ]
        }
      ]
    },
    {
      "cell_type": "markdown",
      "source": [
        "Mount the Gdrive"
      ],
      "metadata": {
        "id": "86mvo8ZIch6s"
      }
    },
    {
      "cell_type": "code",
      "source": [
        "from google.colab import drive\n",
        "drive._mount('/content/drive')"
      ],
      "metadata": {
        "id": "KyQ6KhIaWTZl",
        "colab": {
          "base_uri": "https://localhost:8080/"
        },
        "outputId": "81de2051-3b1c-40ef-bd0a-b198268aa827"
      },
      "execution_count": 2,
      "outputs": [
        {
          "output_type": "stream",
          "name": "stdout",
          "text": [
            "Drive already mounted at /content/drive; to attempt to forcibly remount, call drive.mount(\"/content/drive\", force_remount=True).\n"
          ]
        }
      ]
    },
    {
      "cell_type": "markdown",
      "source": [
        "Specifying the files path to variables"
      ],
      "metadata": {
        "id": "OzHCid-lcl8i"
      }
    },
    {
      "cell_type": "code",
      "source": [
        "data_file = \"/content/drive/MyDrive/Dataset/Hyperspectral data/data.qub\"\n",
        "header_file = \"/content/drive/MyDrive/Dataset/Hyperspectral data/header.hdr\"\n",
        "geometry_file = \"/content/drive/MyDrive/Dataset/Hyperspectral data/geometry.csv\""
      ],
      "metadata": {
        "id": "0h2sPLBv5kVG"
      },
      "execution_count": 3,
      "outputs": []
    },
    {
      "cell_type": "markdown",
      "source": [
        "Reading the data"
      ],
      "metadata": {
        "id": "8ultlBlcdcXg"
      }
    },
    {
      "cell_type": "code",
      "source": [
        "import spectral\n",
        "import os"
      ],
      "metadata": {
        "id": "_STWyyWF5-cf"
      },
      "execution_count": 4,
      "outputs": []
    },
    {
      "cell_type": "code",
      "source": [
        "data = spectral.io.envi.open(header_file, image=data_file)"
      ],
      "metadata": {
        "id": "F4h5j50b6O3d"
      },
      "execution_count": 5,
      "outputs": []
    },
    {
      "cell_type": "code",
      "source": [
        "hyperspectral_data = data.load()"
      ],
      "metadata": {
        "id": "Z_eCGsqk6aud"
      },
      "execution_count": 6,
      "outputs": []
    },
    {
      "cell_type": "code",
      "source": [
        "print(f\"Shape of the data: {hyperspectral_data.shape}\")"
      ],
      "metadata": {
        "colab": {
          "base_uri": "https://localhost:8080/"
        },
        "id": "mf6semqm6ewf",
        "outputId": "d6404762-3867-4b09-db12-b2dc49a888bf"
      },
      "execution_count": 7,
      "outputs": [
        {
          "output_type": "stream",
          "name": "stdout",
          "text": [
            "Shape of the data: (9340, 250, 256)\n"
          ]
        }
      ]
    },
    {
      "cell_type": "markdown",
      "source": [
        "The shape of the data is (9340 , 250 , 256) .\n",
        "In the 2D space of 9340 x 250 (lines * samples) each pixel or point has 256 different reflectance values at 256 different wavelengths."
      ],
      "metadata": {
        "id": "Pv8npfWKc3pW"
      }
    },
    {
      "cell_type": "markdown",
      "source": [
        "Importing the necessary libraries"
      ],
      "metadata": {
        "id": "7FGqXUK5df5G"
      }
    },
    {
      "cell_type": "code",
      "source": [
        "import numpy as np\n",
        "import matplotlib.pyplot as plt\n",
        "import pandas as pd\n",
        "import tensorflow as tf\n",
        "from tensorflow.keras.models import Sequential\n",
        "from tensorflow.keras.layers import Dense, Conv2D, Flatten , MaxPooling2D\n",
        "from sklearn.model_selection import train_test_split\n",
        "from sklearn.preprocessing import StandardScaler\n",
        "from sklearn.model_selection import train_test_split\n",
        "from sklearn.ensemble import RandomForestClassifier\n",
        "from sklearn.metrics import accuracy_score , classification_report\n",
        "from sklearn.cluster import KMeans\n",
        "from sklearn.decomposition import PCA"
      ],
      "metadata": {
        "id": "h3xe9i-e62q_"
      },
      "execution_count": 8,
      "outputs": []
    },
    {
      "cell_type": "markdown",
      "source": [
        "Plotting the grayscale image of the 9340 x 250 region at 6 different wavelength (bands -  10 , 50 , 100 , 150 , 200 , 256)"
      ],
      "metadata": {
        "id": "hzlmona6dks_"
      }
    },
    {
      "cell_type": "code",
      "source": [
        "fig, axes = plt.subplots(1, 6, figsize=(15, 5))\n",
        "\n",
        "axes[0].imshow(hyperspectral_data[:,:,10], cmap='gray')\n",
        "axes[0].set_title('Band 10')\n",
        "\n",
        "axes[1].imshow(hyperspectral_data[:,:,50], cmap='gray')\n",
        "axes[1].set_title('Band 50')\n",
        "\n",
        "axes[2].imshow(hyperspectral_data[:,:,100], cmap='gray')\n",
        "axes[2].set_title('Band 100')\n",
        "\n",
        "axes[3].imshow(hyperspectral_data[:,:,150], cmap='gray')\n",
        "axes[3].set_title('Band 150')\n",
        "\n",
        "axes[4].imshow(hyperspectral_data[:,:,200], cmap='gray')\n",
        "axes[4].set_title('Band 200')\n",
        "\n",
        "axes[5].imshow(hyperspectral_data[:,:,255], cmap='gray')\n",
        "axes[5].set_title('Band 256')\n",
        "\n",
        "plt.show()"
      ],
      "metadata": {
        "colab": {
          "base_uri": "https://localhost:8080/",
          "height": 468
        },
        "id": "InIQBCee65L9",
        "outputId": "44e71c84-85ec-415f-8afe-9fe2c7ae959f"
      },
      "execution_count": 9,
      "outputs": [
        {
          "output_type": "display_data",
          "data": {
            "text/plain": [
              "<Figure size 1500x500 with 6 Axes>"
            ],
            "image/png": "[encoded data removed]"
          },
          "metadata": {}
        }
      ]
    },
    {
      "cell_type": "markdown",
      "source": [
        "# Data Preparation\n",
        "* Reshaping\n",
        "* Normalization"
      ],
      "metadata": {
        "id": "k1qVFBVjuvex"
      }
    },
    {
      "cell_type": "markdown",
      "source": [
        "Normalizing the data by dividing each reflectance value by the maximum reflectance value . In order to achieve values between 0-1. This will improve the traning time of the ml models."
      ],
      "metadata": {
        "id": "9qGl1m48d5OH"
      }
    },
    {
      "cell_type": "code",
      "source": [
        "normalized_data = hyperspectral_data / np.max(hyperspectral_data)"
      ],
      "metadata": {
        "id": "rgET5hXw8tru"
      },
      "execution_count": 10,
      "outputs": []
    },
    {
      "cell_type": "markdown",
      "source": [
        "Reducing the dimention of the data to 2-dimentions"
      ],
      "metadata": {
        "id": "lEdpGEZ_eWyZ"
      }
    },
    {
      "cell_type": "code",
      "source": [
        "flattened_data = normalized_data.reshape(-1, normalized_data.shape[-1])"
      ],
      "metadata": {
        "id": "HI6aXMrGvDuN"
      },
      "execution_count": 11,
      "outputs": []
    },
    {
      "cell_type": "code",
      "source": [
        "flattened_data.shape"
      ],
      "metadata": {
        "colab": {
          "base_uri": "https://localhost:8080/"
        },
        "id": "yLJkpSV5vL-P",
        "outputId": "ffe87183-f48a-48aa-84dd-cdee9b988390"
      },
      "execution_count": 12,
      "outputs": [
        {
          "output_type": "execute_result",
          "data": {
            "text/plain": [
              "(2335000, 256)"
            ]
          },
          "metadata": {},
          "execution_count": 12
        }
      ]
    },
    {
      "cell_type": "code",
      "source": [
        "print(flattened_data[:10])"
      ],
      "metadata": {
        "colab": {
          "base_uri": "https://localhost:8080/"
        },
        "id": "aWp3t_9OvPZ4",
        "outputId": "b1dfe6ef-1477-4847-88ec-5d49cd1e18ee"
      },
      "execution_count": 13,
      "outputs": [
        {
          "output_type": "stream",
          "name": "stdout",
          "text": [
            "[[0.00681401 0.00637074 0.00592747 ... 0.00066645 0.00056592 0.00063337]\n",
            " [0.00681401 0.00637074 0.00592747 ... 0.00066645 0.00056592 0.00063337]\n",
            " [0.00681401 0.00637074 0.00592747 ... 0.00066645 0.00056592 0.00063337]\n",
            " ...\n",
            " [0.00331437 0.0033712  0.00342802 ... 0.00046547 0.00038309 0.00039068]\n",
            " [0.00738867 0.00678232 0.00617597 ... 0.00046661 0.00077682 0.00094651]\n",
            " [0.0087032  0.00805969 0.00741618 ... 0.00044319 0.00048961 0.00045587]]\n"
          ]
        }
      ]
    },
    {
      "cell_type": "markdown",
      "source": [
        "# Dimensionality Reduction using Principal component analysis"
      ],
      "metadata": {
        "id": "wni6-mQL6DvX"
      }
    },
    {
      "cell_type": "markdown",
      "source": [
        "* PCA can further reduce the dimensionality by keeping the most important components, making it more manageable for clustering and CNN processing.\n",
        "* As you can see the 10 principal components capture 98.31% of the variability in your original hyperspectral data"
      ],
      "metadata": {
        "id": "kmwl87Tgfmda"
      }
    },
    {
      "cell_type": "code",
      "source": [
        "pca = PCA(n_components = 10)\n",
        "reduces_data = pca.fit_transform(flattened_data)\n",
        "\n",
        "explained_variance = np.sum(pca.explained_variance_ratio_)\n",
        "print(f\"Explained Variance Ratio by 10 components: {explained_variance}\")"
      ],
      "metadata": {
        "colab": {
          "base_uri": "https://localhost:8080/"
        },
        "id": "I2LQsjRMgaUB",
        "outputId": "a0b77e63-242f-4c48-9bcd-9299d4a389ac"
      },
      "execution_count": 14,
      "outputs": [
        {
          "output_type": "stream",
          "name": "stdout",
          "text": [
            "Explained Variance Ratio by 10 components: 0.9831166916539452\n"
          ]
        }
      ]
    },
    {
      "cell_type": "markdown",
      "source": [
        "# Clustering\n",
        "\n",
        "* Applying **k-mean clustering**"
      ],
      "metadata": {
        "id": "XvDwYxe7vobP"
      }
    },
    {
      "cell_type": "markdown",
      "source": [
        "Applying k-mean to seperate the data into 5 different clusters . We will use these clusters as labels for classification."
      ],
      "metadata": {
        "id": "L27TOErKehYk"
      }
    },
    {
      "cell_type": "code",
      "source": [
        "kmean = KMeans(n_clusters=5)"
      ],
      "metadata": {
        "id": "rT2bP-UnvdbN"
      },
      "execution_count": 15,
      "outputs": []
    },
    {
      "cell_type": "code",
      "source": [
        "labels = kmean.fit_predict(reduces_data)"
      ],
      "metadata": {
        "id": "EtTyFYk0v_N_",
        "colab": {
          "base_uri": "https://localhost:8080/"
        },
        "outputId": "5796e59c-76c2-47c0-cb97-99e5d82b250a"
      },
      "execution_count": 16,
      "outputs": [
        {
          "output_type": "stream",
          "name": "stderr",
          "text": [
            "/usr/local/lib/python3.10/dist-packages/sklearn/cluster/_kmeans.py:870: FutureWarning: The default value of `n_init` will change from 10 to 'auto' in 1.4. Set the value of `n_init` explicitly to suppress the warning\n",
            "  warnings.warn(\n"
          ]
        }
      ]
    },
    {
      "cell_type": "code",
      "source": [
        "clustered_image = labels.reshape(hyperspectral_data.shape[0] , hyperspectral_data.shape[1])"
      ],
      "metadata": {
        "id": "o6ThIRvwwCNf"
      },
      "execution_count": 17,
      "outputs": []
    },
    {
      "cell_type": "code",
      "source": [
        "plt.imshow(clustered_image, cmap='gray')\n",
        "plt.title(\"Clustered Image\")\n",
        "plt.colorbar()\n",
        "plt.show()"
      ],
      "metadata": {
        "colab": {
          "base_uri": "https://localhost:8080/",
          "height": 452
        },
        "id": "4lb76gGU2_AZ",
        "outputId": "22f94b8e-dc43-48ee-8d58-1d7fb10a8434"
      },
      "execution_count": 18,
      "outputs": [
        {
          "output_type": "display_data",
          "data": {
            "text/plain": [
              "<Figure size 640x480 with 2 Axes>"
            ],
            "image/png": "[encoded data removed]"
          },
          "metadata": {}
        }
      ]
    },
    {
      "cell_type": "markdown",
      "source": [
        "# Classification\n",
        "* CNN"
      ],
      "metadata": {
        "id": "x3CZVMUS3LZu"
      }
    },
    {
      "cell_type": "markdown",
      "source": [
        "Splitting the data into traning and test sets."
      ],
      "metadata": {
        "id": "xtBFm0vugiCL"
      }
    },
    {
      "cell_type": "code",
      "source": [
        "X = reduces_data\n",
        "y = labels\n",
        "X_train, X_test, y_train, y_test = train_test_split(X, y, test_size=0.2, random_state=42)"
      ],
      "metadata": {
        "id": "8BlK4F2q3KqB"
      },
      "execution_count": 19,
      "outputs": []
    },
    {
      "cell_type": "code",
      "source": [
        "X_train.shape"
      ],
      "metadata": {
        "colab": {
          "base_uri": "https://localhost:8080/"
        },
        "id": "xngWoezfAAT_",
        "outputId": "f102b48f-7d35-4636-af4b-f89d55320441"
      },
      "execution_count": 20,
      "outputs": [
        {
          "output_type": "execute_result",
          "data": {
            "text/plain": [
              "(1868000, 10)"
            ]
          },
          "metadata": {},
          "execution_count": 20
        }
      ]
    },
    {
      "cell_type": "markdown",
      "source": [
        "* Defining the input shape of the data to the CNN Model.\n",
        "* Then building the structure of the CNN model."
      ],
      "metadata": {
        "id": "aZu4o8RpgrPq"
      }
    },
    {
      "cell_type": "code",
      "source": [
        "X_train_cnn = X_train.reshape(-1, 10, 1, 1)\n",
        "X_test_cnn = X_test.reshape(-1, 10, 1, 1)"
      ],
      "metadata": {
        "id": "WO8QfzyEC4f_"
      },
      "execution_count": 21,
      "outputs": []
    },
    {
      "cell_type": "code",
      "source": [
        "cnn_model = Sequential([\n",
        "    Conv2D(32, (3, 3), activation='relu', input_shape=(10 ,1,1) ,  padding='same'),\n",
        "    MaxPooling2D((2, 1)),\n",
        "    Conv2D(64, (3, 3), activation='relu',  padding='same'),\n",
        "    MaxPooling2D((2, 1)),\n",
        "    Conv2D(64, (3, 3), activation='relu', padding='same'),\n",
        "    Flatten(),\n",
        "    Dense(64, activation='relu'),\n",
        "    Dense(5, activation='softmax')\n",
        "])"
      ],
      "metadata": {
        "id": "_sU2OrS05b9x"
      },
      "execution_count": 22,
      "outputs": []
    },
    {
      "cell_type": "markdown",
      "source": [
        "Then compiling and fitting the model"
      ],
      "metadata": {
        "id": "XPy39uFdg7gW"
      }
    },
    {
      "cell_type": "code",
      "source": [
        "cnn_model.compile(optimizer='adam', loss='sparse_categorical_crossentropy', metrics=['accuracy'])\n",
        "cnn_model.fit(X_train_cnn, y_train, epochs=10, batch_size=32, validation_split=0.2)"
      ],
      "metadata": {
        "colab": {
          "base_uri": "https://localhost:8080/"
        },
        "id": "9_teGtt95sZ_",
        "outputId": "3f4808cd-bed0-465a-c8ac-5ee0ecaa1fb3"
      },
      "execution_count": 23,
      "outputs": [
        {
          "output_type": "stream",
          "name": "stdout",
          "text": [
            "Epoch 1/10\n",
            "46700/46700 [==============================] - 218s 5ms/step - loss: 0.0987 - accuracy: 0.9571 - val_loss: 0.0422 - val_accuracy: 0.9823\n",
            "Epoch 2/10\n",
            "46700/46700 [==============================] - 234s 5ms/step - loss: 0.0475 - accuracy: 0.9799 - val_loss: 0.0422 - val_accuracy: 0.9814\n",
            "Epoch 3/10\n",
            "46700/46700 [==============================] - 215s 5ms/step - loss: 0.0411 - accuracy: 0.9825 - val_loss: 0.0343 - val_accuracy: 0.9855\n",
            "Epoch 4/10\n",
            "46700/46700 [==============================] - 237s 5ms/step - loss: 0.0364 - accuracy: 0.9846 - val_loss: 0.0378 - val_accuracy: 0.9833\n",
            "Epoch 5/10\n",
            "46700/46700 [==============================] - 224s 5ms/step - loss: 0.0334 - accuracy: 0.9858 - val_loss: 0.0256 - val_accuracy: 0.9890\n",
            "Epoch 6/10\n",
            "46700/46700 [==============================] - 215s 5ms/step - loss: 0.0305 - accuracy: 0.9869 - val_loss: 0.0475 - val_accuracy: 0.9800\n",
            "Epoch 7/10\n",
            "46700/46700 [==============================] - 214s 5ms/step - loss: 0.0288 - accuracy: 0.9877 - val_loss: 0.0199 - val_accuracy: 0.9919\n",
            "Epoch 8/10\n",
            "46700/46700 [==============================] - 215s 5ms/step - loss: 0.0275 - accuracy: 0.9882 - val_loss: 0.0247 - val_accuracy: 0.9890\n",
            "Epoch 9/10\n",
            "46700/46700 [==============================] - 213s 5ms/step - loss: 0.0265 - accuracy: 0.9888 - val_loss: 0.0291 - val_accuracy: 0.9865\n",
            "Epoch 10/10\n",
            "46700/46700 [==============================] - 210s 5ms/step - loss: 0.0258 - accuracy: 0.9890 - val_loss: 0.0191 - val_accuracy: 0.9923\n"
          ]
        },
        {
          "output_type": "execute_result",
          "data": {
            "text/plain": [
              "<keras.src.callbacks.History at 0x790218468ca0>"
            ]
          },
          "metadata": {},
          "execution_count": 23
        }
      ]
    },
    {
      "cell_type": "code",
      "source": [
        "cnn_eval = cnn_model.evaluate(X_test_cnn, y_test)\n",
        "print(f'CNN Accuracy: {cnn_eval[1]}')"
      ],
      "metadata": {
        "colab": {
          "base_uri": "https://localhost:8080/"
        },
        "id": "EC4_EwFT50sK",
        "outputId": "b97e80c4-9ea3-44af-fdf0-e9836ad2f284"
      },
      "execution_count": 24,
      "outputs": [
        {
          "output_type": "stream",
          "name": "stdout",
          "text": [
            "14594/14594 [==============================] - 31s 2ms/step - loss: 0.0185 - accuracy: 0.9926\n",
            "CNN Accuracy: 0.9925974011421204\n"
          ]
        }
      ]
    },
    {
      "cell_type": "markdown",
      "source": [
        "ON TEST SET OUR MODEL IS GIVING ACCURACY OF MORE THAN 99%"
      ],
      "metadata": {
        "id": "x53UW2p9hJ3F"
      }
    },
    {
      "cell_type": "code",
      "source": [],
      "metadata": {
        "id": "hrQoGBMqSXB2"
      },
      "execution_count": 24,
      "outputs": []
    }
  ]
}