{
  "nbformat": 4,
  "nbformat_minor": 0,
  "metadata": {
    "colab": {
      "provenance": [],
      "mount_file_id": "1H7vM8gDBM39HGN3FzWj6lq0W0F9PuCLz",
      "authorship_tag": "ABX9TyPpnAbNgG6WRTwgSc6ZkHub",
      "include_colab_link": true
    },
    "kernelspec": {
      "name": "python3",
      "display_name": "Python 3"
    },
    "language_info": {
      "name": "python"
    }
  },
  "cells": [
    {
      "cell_type": "markdown",
      "metadata": {
        "id": "view-in-github",
        "colab_type": "text"
      },
      "source": [
        "<a href=\"https://colab.research.google.com/github/AshishRaj04/Spectral-classification-of-Chandrayaan-2-IIRS/blob/main/Spectral_classification_of_Chandrayaan_2_IIRS.ipynb\" target=\"_parent\"><img src=\"https://colab.research.google.com/assets/colab-badge.svg\" alt=\"Open In Colab\"/></a>"
      ]
    },
    {
      "cell_type": "code",
      "source": [
        "! pip install spectral"
      ],
      "metadata": {
        "colab": {
          "base_uri": "https://localhost:8080/"
        },
        "id": "MaQm2qkZUqhM",
        "outputId": "74544b57-4b0f-40c2-d8c9-557e980dfd02"
      },
      "execution_count": 1,
      "outputs": [
        {
          "output_type": "stream",
          "name": "stdout",
          "text": [
            "Collecting spectral\n",
            "  Downloading spectral-0.23.1-py3-none-any.whl (212 kB)\n",
            "\u001b[2K     \u001b[90m━━━━━━━━━━━━━━━━━━━━━━━━━━━━━━━━━━━━━━━━\u001b[0m \u001b[32m212.9/212.9 kB\u001b[0m \u001b[31m1.5 MB/s\u001b[0m eta \u001b[36m0:00:00\u001b[0m\n",
            "\u001b[?25hRequirement already satisfied: numpy in /usr/local/lib/python3.10/dist-packages (from spectral) (1.25.2)\n",
            "Installing collected packages: spectral\n",
            "Successfully installed spectral-0.23.1\n"
          ]
        }
      ]
    },
    {
      "cell_type": "code",
      "source": [
        "from google.colab import drive\n",
        "drive._mount('/content/drive')"
      ],
      "metadata": {
        "id": "KyQ6KhIaWTZl",
        "colab": {
          "base_uri": "https://localhost:8080/"
        },
        "outputId": "3a005082-1ca3-4102-ee01-b5046d2e0072"
      },
      "execution_count": 2,
      "outputs": [
        {
          "output_type": "stream",
          "name": "stdout",
          "text": [
            "Drive already mounted at /content/drive; to attempt to forcibly remount, call drive.mount(\"/content/drive\", force_remount=True).\n"
          ]
        }
      ]
    },
    {
      "cell_type": "code",
      "source": [
        "data_file = \"/content/drive/MyDrive/Dataset/Hyperspectral data/data.qub\"\n",
        "header_file = \"/content/drive/MyDrive/Dataset/Hyperspectral data/header.hdr\"\n",
        "geometry_file = \"/content/drive/MyDrive/Dataset/Hyperspectral data/geometry.csv\""
      ],
      "metadata": {
        "id": "0h2sPLBv5kVG"
      },
      "execution_count": 3,
      "outputs": []
    },
    {
      "cell_type": "code",
      "source": [
        "import spectral\n",
        "import os"
      ],
      "metadata": {
        "id": "_STWyyWF5-cf"
      },
      "execution_count": 4,
      "outputs": []
    },
    {
      "cell_type": "code",
      "source": [
        "data = spectral.io.envi.open(header_file, image=data_file)"
      ],
      "metadata": {
        "id": "F4h5j50b6O3d"
      },
      "execution_count": 5,
      "outputs": []
    },
    {
      "cell_type": "code",
      "source": [
        "hyperspectral_data = data.load()"
      ],
      "metadata": {
        "id": "Z_eCGsqk6aud"
      },
      "execution_count": 6,
      "outputs": []
    },
    {
      "cell_type": "code",
      "source": [
        "print(f\"Shape of the data: {hyperspectral_data.shape}\")"
      ],
      "metadata": {
        "colab": {
          "base_uri": "https://localhost:8080/"
        },
        "id": "mf6semqm6ewf",
        "outputId": "aa67022a-8dcc-4175-9c6f-9b6599f5eb69"
      },
      "execution_count": 7,
      "outputs": [
        {
          "output_type": "stream",
          "name": "stdout",
          "text": [
            "Shape of the data: (9340, 250, 256)\n"
          ]
        }
      ]
    },
    {
      "cell_type": "code",
      "source": [
        "import numpy as np\n",
        "import matplotlib.pyplot as plt\n",
        "import pandas as pd\n",
        "import tensorflow as tf\n",
        "from tensorflow.keras.models import Sequential\n",
        "from tensorflow.keras.layers import Dense, Conv2D, Flatten , MaxPooling2D\n",
        "from sklearn.model_selection import train_test_split\n",
        "from sklearn.preprocessing import StandardScaler\n",
        "from sklearn.model_selection import train_test_split\n",
        "from sklearn.ensemble import RandomForestClassifier\n",
        "from sklearn.metrics import accuracy_score , classification_report\n",
        "from sklearn.cluster import KMeans\n",
        "from sklearn.decomposition import PCA"
      ],
      "metadata": {
        "id": "h3xe9i-e62q_"
      },
      "execution_count": 20,
      "outputs": []
    },
    {
      "cell_type": "code",
      "source": [
        "fig, axes = plt.subplots(1, 6, figsize=(15, 5))\n",
        "\n",
        "axes[0].imshow(hyperspectral_data[:,:,10], cmap='gray')\n",
        "axes[0].set_title('Band 10')\n",
        "\n",
        "axes[1].imshow(hyperspectral_data[:,:,50], cmap='gray')\n",
        "axes[1].set_title('Band 50')\n",
        "\n",
        "axes[2].imshow(hyperspectral_data[:,:,100], cmap='gray')\n",
        "axes[2].set_title('Band 100')\n",
        "\n",
        "axes[3].imshow(hyperspectral_data[:,:,150], cmap='gray')\n",
        "axes[3].set_title('Band 150')\n",
        "\n",
        "axes[4].imshow(hyperspectral_data[:,:,200], cmap='gray')\n",
        "axes[4].set_title('Band 200')\n",
        "\n",
        "axes[5].imshow(hyperspectral_data[:,:,255], cmap='gray')\n",
        "axes[5].set_title('Band 256')\n",
        "\n",
        "plt.show()"
      ],
      "metadata": {
        "colab": {
          "base_uri": "https://localhost:8080/",
          "height": 274
        },
        "id": "InIQBCee65L9",
        "outputId": "bfea9146-213f-47a7-dce4-bf57b1f83457"
      },
      "execution_count": null,
      "outputs": [
        {
          "output_type": "display_data",
          "data": {
            "text/plain": [
              "<Figure size 1500x500 with 6 Axes>"
            ],
            "image/png": "[encoded data removed]"
          },
          "metadata": {}
        }
      ]
    },
    {
      "cell_type": "markdown",
      "source": [
        "# Data Preparation\n",
        "* Reshaping\n",
        "* Normalization"
      ],
      "metadata": {
        "id": "k1qVFBVjuvex"
      }
    },
    {
      "cell_type": "code",
      "source": [
        "normalized_data = hyperspectral_data / np.max(hyperspectral_data)"
      ],
      "metadata": {
        "id": "rgET5hXw8tru"
      },
      "execution_count": 9,
      "outputs": []
    },
    {
      "cell_type": "code",
      "source": [
        "flattened_data = normalized_data.reshape(-1, normalized_data.shape[-1])"
      ],
      "metadata": {
        "id": "HI6aXMrGvDuN"
      },
      "execution_count": 10,
      "outputs": []
    },
    {
      "cell_type": "code",
      "source": [
        "flattened_data.shape"
      ],
      "metadata": {
        "colab": {
          "base_uri": "https://localhost:8080/"
        },
        "id": "yLJkpSV5vL-P",
        "outputId": "320e0282-b689-4cc1-e83e-55580ee6b5e8"
      },
      "execution_count": 11,
      "outputs": [
        {
          "output_type": "execute_result",
          "data": {
            "text/plain": [
              "(2335000, 256)"
            ]
          },
          "metadata": {},
          "execution_count": 11
        }
      ]
    },
    {
      "cell_type": "code",
      "source": [
        "print(flattened_data[:10]) # Prints the first 10"
      ],
      "metadata": {
        "colab": {
          "base_uri": "https://localhost:8080/"
        },
        "id": "aWp3t_9OvPZ4",
        "outputId": "9ec475c6-3a1f-4185-8703-6496c3740fd3"
      },
      "execution_count": null,
      "outputs": [
        {
          "output_type": "stream",
          "name": "stdout",
          "text": [
            "[[0.00681401 0.00637074 0.00592747 ... 0.00066645 0.00056592 0.00063337]\n",
            " [0.00681401 0.00637074 0.00592747 ... 0.00066645 0.00056592 0.00063337]\n",
            " [0.00681401 0.00637074 0.00592747 ... 0.00066645 0.00056592 0.00063337]\n",
            " ...\n",
            " [0.00331437 0.0033712  0.00342802 ... 0.00046547 0.00038309 0.00039068]\n",
            " [0.00738867 0.00678232 0.00617597 ... 0.00046661 0.00077682 0.00094651]\n",
            " [0.0087032  0.00805969 0.00741618 ... 0.00044319 0.00048961 0.00045587]]\n"
          ]
        }
      ]
    },
    {
      "cell_type": "markdown",
      "source": [
        "# Dimensionality Reduction using Principal component analysis"
      ],
      "metadata": {
        "id": "wni6-mQL6DvX"
      }
    },
    {
      "cell_type": "code",
      "source": [
        "pca = PCA(n_components = 10)\n",
        "reduces_data = pca.fit_transform(flattened_data)\n",
        "\n",
        "explained_variance = np.sum(pca.explained_variance_ratio_)\n",
        "print(f\"Explained Variance Ratio by 10 components: {explained_variance}\")"
      ],
      "metadata": {
        "colab": {
          "base_uri": "https://localhost:8080/"
        },
        "id": "6ozcXQUd6Srf",
        "outputId": "df73c15e-a581-4ac4-f547-c36e5886a2b7"
      },
      "execution_count": 29,
      "outputs": [
        {
          "output_type": "stream",
          "name": "stdout",
          "text": [
            "Explained Variance Ratio by 10 components: 0.9831173982880049\n"
          ]
        }
      ]
    },
    {
      "cell_type": "markdown",
      "source": [
        "# Clustering\n",
        "\n",
        "* Applying **k-mean clustering**"
      ],
      "metadata": {
        "id": "XvDwYxe7vobP"
      }
    },
    {
      "cell_type": "code",
      "source": [
        "kmean = KMeans(n_clusters=5)"
      ],
      "metadata": {
        "id": "rT2bP-UnvdbN"
      },
      "execution_count": 12,
      "outputs": []
    },
    {
      "cell_type": "code",
      "source": [
        "labels = kmean.fit_predict(flattened_data)"
      ],
      "metadata": {
        "id": "EtTyFYk0v_N_",
        "colab": {
          "base_uri": "https://localhost:8080/"
        },
        "outputId": "3d45adc5-5a82-44ad-edf3-d38a9fed3e42"
      },
      "execution_count": 13,
      "outputs": [
        {
          "output_type": "stream",
          "name": "stderr",
          "text": [
            "/usr/local/lib/python3.10/dist-packages/sklearn/cluster/_kmeans.py:870: FutureWarning: The default value of `n_init` will change from 10 to 'auto' in 1.4. Set the value of `n_init` explicitly to suppress the warning\n",
            "  warnings.warn(\n"
          ]
        }
      ]
    },
    {
      "cell_type": "code",
      "source": [
        "clustered_image = labels.reshape(hyperspectral_data.shape[0] , hyperspectral_data.shape[1])"
      ],
      "metadata": {
        "id": "o6ThIRvwwCNf"
      },
      "execution_count": 16,
      "outputs": []
    },
    {
      "cell_type": "code",
      "source": [
        "plt.imshow(clustered_image, cmap='gray')\n",
        "plt.title(\"Clustered Image\")\n",
        "plt.colorbar()\n",
        "plt.show()"
      ],
      "metadata": {
        "colab": {
          "base_uri": "https://localhost:8080/",
          "height": 452
        },
        "id": "4lb76gGU2_AZ",
        "outputId": "7306807e-b374-46ce-88fc-5d8e697d34fb"
      },
      "execution_count": 17,
      "outputs": [
        {
          "output_type": "display_data",
          "data": {
            "text/plain": [
              "<Figure size 640x480 with 2 Axes>"
            ],
            "image/png": "[encoded data removed]"
          },
          "metadata": {}
        }
      ]
    },
    {
      "cell_type": "markdown",
      "source": [
        "# Classification\n",
        "* CNN"
      ],
      "metadata": {
        "id": "x3CZVMUS3LZu"
      }
    },
    {
      "cell_type": "code",
      "source": [
        "X = reduces_data\n",
        "y = labels\n",
        "X_train, X_test, y_train, y_test = train_test_split(X, y, test_size=0.2, random_state=42)"
      ],
      "metadata": {
        "id": "8BlK4F2q3KqB"
      },
      "execution_count": 30,
      "outputs": []
    },
    {
      "cell_type": "code",
      "source": [
        "X_train.shape"
      ],
      "metadata": {
        "colab": {
          "base_uri": "https://localhost:8080/"
        },
        "id": "xngWoezfAAT_",
        "outputId": "295407bb-c37d-4f2b-f2c6-8c391d834cf0"
      },
      "execution_count": 31,
      "outputs": [
        {
          "output_type": "execute_result",
          "data": {
            "text/plain": [
              "(1868000, 10)"
            ]
          },
          "metadata": {},
          "execution_count": 31
        }
      ]
    },
    {
      "cell_type": "code",
      "source": [
        "X_train_cnn = X_train.reshape(-1, 10, 1, 1)\n",
        "X_test_cnn = X_test.reshape(-1, 10, 1, 1)"
      ],
      "metadata": {
        "id": "WO8QfzyEC4f_"
      },
      "execution_count": 32,
      "outputs": []
    },
    {
      "cell_type": "code",
      "source": [
        "cnn_model = Sequential([\n",
        "    Conv2D(32, (3, 3), activation='relu', input_shape=(10 ,1,1) ,  padding='same'),\n",
        "    MaxPooling2D((2, 1)),\n",
        "    Conv2D(64, (3, 3), activation='relu',  padding='same'),\n",
        "    MaxPooling2D((2, 1)),\n",
        "    Conv2D(64, (3, 3), activation='relu', padding='same'),\n",
        "    Flatten(),\n",
        "    Dense(64, activation='relu'),\n",
        "    Dense(5, activation='softmax')\n",
        "])"
      ],
      "metadata": {
        "id": "_sU2OrS05b9x"
      },
      "execution_count": 35,
      "outputs": []
    },
    {
      "cell_type": "code",
      "source": [
        "cnn_model.compile(optimizer='adam', loss='sparse_categorical_crossentropy', metrics=['accuracy'])\n",
        "cnn_model.fit(X_train_cnn, y_train, epochs=10, batch_size=32, validation_split=0.2)"
      ],
      "metadata": {
        "colab": {
          "base_uri": "https://localhost:8080/"
        },
        "id": "9_teGtt95sZ_",
        "outputId": "92042604-fe7e-4733-c7d4-9f1bd58e9e61"
      },
      "execution_count": 36,
      "outputs": [
        {
          "output_type": "stream",
          "name": "stdout",
          "text": [
            "Epoch 1/10\n",
            "46700/46700 [==============================] - 332s 7ms/step - loss: 0.1041 - accuracy: 0.9546 - val_loss: 0.1060 - val_accuracy: 0.9580\n",
            "Epoch 2/10\n",
            "46700/46700 [==============================] - 312s 7ms/step - loss: 0.0452 - accuracy: 0.9811 - val_loss: 0.0348 - val_accuracy: 0.9856\n",
            "Epoch 3/10\n",
            "46700/46700 [==============================] - 340s 7ms/step - loss: 0.0394 - accuracy: 0.9833 - val_loss: 0.0333 - val_accuracy: 0.9857\n",
            "Epoch 4/10\n",
            "46700/46700 [==============================] - 315s 7ms/step - loss: 0.0358 - accuracy: 0.9851 - val_loss: 0.0307 - val_accuracy: 0.9866\n",
            "Epoch 5/10\n",
            "46700/46700 [==============================] - 312s 7ms/step - loss: 0.0332 - accuracy: 0.9859 - val_loss: 0.0262 - val_accuracy: 0.9895\n",
            "Epoch 6/10\n",
            "46700/46700 [==============================] - 316s 7ms/step - loss: 0.0312 - accuracy: 0.9868 - val_loss: 0.0270 - val_accuracy: 0.9885\n",
            "Epoch 7/10\n",
            "46700/46700 [==============================] - 324s 7ms/step - loss: 0.0296 - accuracy: 0.9875 - val_loss: 0.0239 - val_accuracy: 0.9902\n",
            "Epoch 8/10\n",
            "46700/46700 [==============================] - 327s 7ms/step - loss: 0.0275 - accuracy: 0.9883 - val_loss: 0.0225 - val_accuracy: 0.9910\n",
            "Epoch 9/10\n",
            "46700/46700 [==============================] - 311s 7ms/step - loss: 0.0273 - accuracy: 0.9885 - val_loss: 0.0254 - val_accuracy: 0.9889\n",
            "Epoch 10/10\n",
            "46700/46700 [==============================] - 325s 7ms/step - loss: 0.0263 - accuracy: 0.9891 - val_loss: 0.0208 - val_accuracy: 0.9913\n"
          ]
        },
        {
          "output_type": "execute_result",
          "data": {
            "text/plain": [
              "<keras.src.callbacks.History at 0x7aeb184514b0>"
            ]
          },
          "metadata": {},
          "execution_count": 36
        }
      ]
    },
    {
      "cell_type": "code",
      "source": [
        "cnn_eval = cnn_model.evaluate(X_test_cnn, y_test)\n",
        "print(f'CNN Accuracy: {cnn_eval[1]}')"
      ],
      "metadata": {
        "colab": {
          "base_uri": "https://localhost:8080/"
        },
        "id": "EC4_EwFT50sK",
        "outputId": "ae928747-2de4-4768-9f85-30b09e405b35"
      },
      "execution_count": 37,
      "outputs": [
        {
          "output_type": "stream",
          "name": "stdout",
          "text": [
            "14594/14594 [==============================] - 39s 3ms/step - loss: 0.0205 - accuracy: 0.9912\n",
            "CNN Accuracy: 0.9912141561508179\n"
          ]
        }
      ]
    },
    {
      "cell_type": "code",
      "source": [],
      "metadata": {
        "id": "vgvYXyMBNiwX"
      },
      "execution_count": null,
      "outputs": []
    }
  ]
}